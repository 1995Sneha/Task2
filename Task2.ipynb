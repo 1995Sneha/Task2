{
 "cells": [
  {
   "cell_type": "code",
   "execution_count": 81,
   "id": "db837f41",
   "metadata": {
    "ExecuteTime": {
     "end_time": "2023-01-13T10:06:03.963653Z",
     "start_time": "2023-01-13T10:06:03.947283Z"
    }
   },
   "outputs": [],
   "source": [
    "import pandas as pd\n",
    "import numpy as np\n",
    "import matplotlib.pyplot as plt\n",
    "import seaborn as sns\n",
    "\n",
    "%matplotlib inline\n",
    "\n",
    "sns.set_style('darkgrid')"
   ]
  },
  {
   "cell_type": "code",
   "execution_count": 82,
   "id": "1e1ba97d",
   "metadata": {
    "ExecuteTime": {
     "end_time": "2023-01-13T10:06:05.300516Z",
     "start_time": "2023-01-13T10:06:05.287668Z"
    }
   },
   "outputs": [],
   "source": [
    "import warnings\n",
    "warnings.filterwarnings('ignore')"
   ]
  },
  {
   "cell_type": "code",
   "execution_count": 83,
   "id": "d147a8e0",
   "metadata": {
    "ExecuteTime": {
     "end_time": "2023-01-13T10:06:08.707622Z",
     "start_time": "2023-01-13T10:06:08.682568Z"
    }
   },
   "outputs": [],
   "source": [
    "df = pd.read_csv(\"C:\\\\Users\\\\sneha\\\\Downloads\\\\Iris.csv\")"
   ]
  },
  {
   "cell_type": "code",
   "execution_count": 84,
   "id": "ebef4b98",
   "metadata": {
    "ExecuteTime": {
     "end_time": "2023-01-13T10:06:11.061590Z",
     "start_time": "2023-01-13T10:06:11.045606Z"
    }
   },
   "outputs": [
    {
     "data": {
      "text/html": [
       "<div>\n",
       "<style scoped>\n",
       "    .dataframe tbody tr th:only-of-type {\n",
       "        vertical-align: middle;\n",
       "    }\n",
       "\n",
       "    .dataframe tbody tr th {\n",
       "        vertical-align: top;\n",
       "    }\n",
       "\n",
       "    .dataframe thead th {\n",
       "        text-align: right;\n",
       "    }\n",
       "</style>\n",
       "<table border=\"1\" class=\"dataframe\">\n",
       "  <thead>\n",
       "    <tr style=\"text-align: right;\">\n",
       "      <th></th>\n",
       "      <th>Id</th>\n",
       "      <th>SepalLengthCm</th>\n",
       "      <th>SepalWidthCm</th>\n",
       "      <th>PetalLengthCm</th>\n",
       "      <th>PetalWidthCm</th>\n",
       "      <th>Species</th>\n",
       "    </tr>\n",
       "  </thead>\n",
       "  <tbody>\n",
       "    <tr>\n",
       "      <th>0</th>\n",
       "      <td>1</td>\n",
       "      <td>5.1</td>\n",
       "      <td>3.5</td>\n",
       "      <td>1.4</td>\n",
       "      <td>0.2</td>\n",
       "      <td>Iris-setosa</td>\n",
       "    </tr>\n",
       "    <tr>\n",
       "      <th>1</th>\n",
       "      <td>2</td>\n",
       "      <td>4.9</td>\n",
       "      <td>3.0</td>\n",
       "      <td>1.4</td>\n",
       "      <td>0.2</td>\n",
       "      <td>Iris-setosa</td>\n",
       "    </tr>\n",
       "    <tr>\n",
       "      <th>2</th>\n",
       "      <td>3</td>\n",
       "      <td>4.7</td>\n",
       "      <td>3.2</td>\n",
       "      <td>1.3</td>\n",
       "      <td>0.2</td>\n",
       "      <td>Iris-setosa</td>\n",
       "    </tr>\n",
       "    <tr>\n",
       "      <th>3</th>\n",
       "      <td>4</td>\n",
       "      <td>4.6</td>\n",
       "      <td>3.1</td>\n",
       "      <td>1.5</td>\n",
       "      <td>0.2</td>\n",
       "      <td>Iris-setosa</td>\n",
       "    </tr>\n",
       "    <tr>\n",
       "      <th>4</th>\n",
       "      <td>5</td>\n",
       "      <td>5.0</td>\n",
       "      <td>3.6</td>\n",
       "      <td>1.4</td>\n",
       "      <td>0.2</td>\n",
       "      <td>Iris-setosa</td>\n",
       "    </tr>\n",
       "  </tbody>\n",
       "</table>\n",
       "</div>"
      ],
      "text/plain": [
       "   Id  SepalLengthCm  SepalWidthCm  PetalLengthCm  PetalWidthCm      Species\n",
       "0   1            5.1           3.5            1.4           0.2  Iris-setosa\n",
       "1   2            4.9           3.0            1.4           0.2  Iris-setosa\n",
       "2   3            4.7           3.2            1.3           0.2  Iris-setosa\n",
       "3   4            4.6           3.1            1.5           0.2  Iris-setosa\n",
       "4   5            5.0           3.6            1.4           0.2  Iris-setosa"
      ]
     },
     "execution_count": 84,
     "metadata": {},
     "output_type": "execute_result"
    }
   ],
   "source": [
    "df.head()"
   ]
  },
  {
   "cell_type": "markdown",
   "id": "4f10fb68",
   "metadata": {},
   "source": [
    "# EDA"
   ]
  },
  {
   "cell_type": "code",
   "execution_count": 85,
   "id": "95c73bea",
   "metadata": {
    "ExecuteTime": {
     "end_time": "2023-01-13T10:06:15.007988Z",
     "start_time": "2023-01-13T10:06:14.987762Z"
    }
   },
   "outputs": [
    {
     "data": {
      "text/plain": [
       "Iris-setosa        50\n",
       "Iris-versicolor    50\n",
       "Iris-virginica     50\n",
       "Name: Species, dtype: int64"
      ]
     },
     "execution_count": 85,
     "metadata": {},
     "output_type": "execute_result"
    }
   ],
   "source": [
    "df['Species'].value_counts()"
   ]
  },
  {
   "cell_type": "code",
   "execution_count": 86,
   "id": "b10b4b6f",
   "metadata": {
    "ExecuteTime": {
     "end_time": "2023-01-13T10:06:16.095145Z",
     "start_time": "2023-01-13T10:06:16.078386Z"
    }
   },
   "outputs": [],
   "source": [
    "df.set_index('Id',inplace=True)"
   ]
  },
  {
   "cell_type": "code",
   "execution_count": 87,
   "id": "d506fde5",
   "metadata": {
    "ExecuteTime": {
     "end_time": "2023-01-13T10:06:17.218109Z",
     "start_time": "2023-01-13T10:06:17.176807Z"
    }
   },
   "outputs": [
    {
     "data": {
      "text/html": [
       "<div>\n",
       "<style scoped>\n",
       "    .dataframe tbody tr th:only-of-type {\n",
       "        vertical-align: middle;\n",
       "    }\n",
       "\n",
       "    .dataframe tbody tr th {\n",
       "        vertical-align: top;\n",
       "    }\n",
       "\n",
       "    .dataframe thead th {\n",
       "        text-align: right;\n",
       "    }\n",
       "</style>\n",
       "<table border=\"1\" class=\"dataframe\">\n",
       "  <thead>\n",
       "    <tr style=\"text-align: right;\">\n",
       "      <th></th>\n",
       "      <th>SepalLengthCm</th>\n",
       "      <th>SepalWidthCm</th>\n",
       "      <th>PetalLengthCm</th>\n",
       "      <th>PetalWidthCm</th>\n",
       "    </tr>\n",
       "  </thead>\n",
       "  <tbody>\n",
       "    <tr>\n",
       "      <th>count</th>\n",
       "      <td>150.000000</td>\n",
       "      <td>150.000000</td>\n",
       "      <td>150.000000</td>\n",
       "      <td>150.000000</td>\n",
       "    </tr>\n",
       "    <tr>\n",
       "      <th>mean</th>\n",
       "      <td>5.843333</td>\n",
       "      <td>3.054000</td>\n",
       "      <td>3.758667</td>\n",
       "      <td>1.198667</td>\n",
       "    </tr>\n",
       "    <tr>\n",
       "      <th>std</th>\n",
       "      <td>0.828066</td>\n",
       "      <td>0.433594</td>\n",
       "      <td>1.764420</td>\n",
       "      <td>0.763161</td>\n",
       "    </tr>\n",
       "    <tr>\n",
       "      <th>min</th>\n",
       "      <td>4.300000</td>\n",
       "      <td>2.000000</td>\n",
       "      <td>1.000000</td>\n",
       "      <td>0.100000</td>\n",
       "    </tr>\n",
       "    <tr>\n",
       "      <th>25%</th>\n",
       "      <td>5.100000</td>\n",
       "      <td>2.800000</td>\n",
       "      <td>1.600000</td>\n",
       "      <td>0.300000</td>\n",
       "    </tr>\n",
       "    <tr>\n",
       "      <th>50%</th>\n",
       "      <td>5.800000</td>\n",
       "      <td>3.000000</td>\n",
       "      <td>4.350000</td>\n",
       "      <td>1.300000</td>\n",
       "    </tr>\n",
       "    <tr>\n",
       "      <th>75%</th>\n",
       "      <td>6.400000</td>\n",
       "      <td>3.300000</td>\n",
       "      <td>5.100000</td>\n",
       "      <td>1.800000</td>\n",
       "    </tr>\n",
       "    <tr>\n",
       "      <th>max</th>\n",
       "      <td>7.900000</td>\n",
       "      <td>4.400000</td>\n",
       "      <td>6.900000</td>\n",
       "      <td>2.500000</td>\n",
       "    </tr>\n",
       "  </tbody>\n",
       "</table>\n",
       "</div>"
      ],
      "text/plain": [
       "       SepalLengthCm  SepalWidthCm  PetalLengthCm  PetalWidthCm\n",
       "count     150.000000    150.000000     150.000000    150.000000\n",
       "mean        5.843333      3.054000       3.758667      1.198667\n",
       "std         0.828066      0.433594       1.764420      0.763161\n",
       "min         4.300000      2.000000       1.000000      0.100000\n",
       "25%         5.100000      2.800000       1.600000      0.300000\n",
       "50%         5.800000      3.000000       4.350000      1.300000\n",
       "75%         6.400000      3.300000       5.100000      1.800000\n",
       "max         7.900000      4.400000       6.900000      2.500000"
      ]
     },
     "execution_count": 87,
     "metadata": {},
     "output_type": "execute_result"
    }
   ],
   "source": [
    "df.describe()"
   ]
  },
  {
   "cell_type": "code",
   "execution_count": 88,
   "id": "51e2ef3c",
   "metadata": {
    "ExecuteTime": {
     "end_time": "2023-01-13T10:06:17.966738Z",
     "start_time": "2023-01-13T10:06:17.949425Z"
    }
   },
   "outputs": [
    {
     "data": {
      "text/plain": [
       "SepalLengthCm    0\n",
       "SepalWidthCm     0\n",
       "PetalLengthCm    0\n",
       "PetalWidthCm     0\n",
       "Species          0\n",
       "dtype: int64"
      ]
     },
     "execution_count": 88,
     "metadata": {},
     "output_type": "execute_result"
    }
   ],
   "source": [
    "df.isna().sum()"
   ]
  },
  {
   "cell_type": "code",
   "execution_count": 89,
   "id": "44fe7e82",
   "metadata": {
    "ExecuteTime": {
     "end_time": "2023-01-13T10:06:18.884765Z",
     "start_time": "2023-01-13T10:06:18.871101Z"
    }
   },
   "outputs": [
    {
     "data": {
      "text/plain": [
       "3"
      ]
     },
     "execution_count": 89,
     "metadata": {},
     "output_type": "execute_result"
    }
   ],
   "source": [
    "df.duplicated().sum()"
   ]
  },
  {
   "cell_type": "code",
   "execution_count": 90,
   "id": "a65ab7ef",
   "metadata": {
    "ExecuteTime": {
     "end_time": "2023-01-13T10:06:19.912474Z",
     "start_time": "2023-01-13T10:06:19.898376Z"
    }
   },
   "outputs": [],
   "source": [
    "df.drop_duplicates(inplace=True)"
   ]
  },
  {
   "cell_type": "code",
   "execution_count": 91,
   "id": "dc0bf41d",
   "metadata": {
    "ExecuteTime": {
     "end_time": "2023-01-13T10:06:21.531969Z",
     "start_time": "2023-01-13T10:06:21.502544Z"
    }
   },
   "outputs": [
    {
     "data": {
      "text/html": [
       "<div>\n",
       "<style scoped>\n",
       "    .dataframe tbody tr th:only-of-type {\n",
       "        vertical-align: middle;\n",
       "    }\n",
       "\n",
       "    .dataframe tbody tr th {\n",
       "        vertical-align: top;\n",
       "    }\n",
       "\n",
       "    .dataframe thead th {\n",
       "        text-align: right;\n",
       "    }\n",
       "</style>\n",
       "<table border=\"1\" class=\"dataframe\">\n",
       "  <thead>\n",
       "    <tr style=\"text-align: right;\">\n",
       "      <th></th>\n",
       "      <th>SepalLengthCm</th>\n",
       "      <th>SepalWidthCm</th>\n",
       "      <th>PetalLengthCm</th>\n",
       "      <th>PetalWidthCm</th>\n",
       "    </tr>\n",
       "    <tr>\n",
       "      <th>Id</th>\n",
       "      <th></th>\n",
       "      <th></th>\n",
       "      <th></th>\n",
       "      <th></th>\n",
       "    </tr>\n",
       "  </thead>\n",
       "  <tbody>\n",
       "    <tr>\n",
       "      <th>1</th>\n",
       "      <td>5.1</td>\n",
       "      <td>3.5</td>\n",
       "      <td>1.4</td>\n",
       "      <td>0.2</td>\n",
       "    </tr>\n",
       "    <tr>\n",
       "      <th>2</th>\n",
       "      <td>4.9</td>\n",
       "      <td>3.0</td>\n",
       "      <td>1.4</td>\n",
       "      <td>0.2</td>\n",
       "    </tr>\n",
       "    <tr>\n",
       "      <th>3</th>\n",
       "      <td>4.7</td>\n",
       "      <td>3.2</td>\n",
       "      <td>1.3</td>\n",
       "      <td>0.2</td>\n",
       "    </tr>\n",
       "    <tr>\n",
       "      <th>4</th>\n",
       "      <td>4.6</td>\n",
       "      <td>3.1</td>\n",
       "      <td>1.5</td>\n",
       "      <td>0.2</td>\n",
       "    </tr>\n",
       "    <tr>\n",
       "      <th>5</th>\n",
       "      <td>5.0</td>\n",
       "      <td>3.6</td>\n",
       "      <td>1.4</td>\n",
       "      <td>0.2</td>\n",
       "    </tr>\n",
       "    <tr>\n",
       "      <th>...</th>\n",
       "      <td>...</td>\n",
       "      <td>...</td>\n",
       "      <td>...</td>\n",
       "      <td>...</td>\n",
       "    </tr>\n",
       "    <tr>\n",
       "      <th>146</th>\n",
       "      <td>6.7</td>\n",
       "      <td>3.0</td>\n",
       "      <td>5.2</td>\n",
       "      <td>2.3</td>\n",
       "    </tr>\n",
       "    <tr>\n",
       "      <th>147</th>\n",
       "      <td>6.3</td>\n",
       "      <td>2.5</td>\n",
       "      <td>5.0</td>\n",
       "      <td>1.9</td>\n",
       "    </tr>\n",
       "    <tr>\n",
       "      <th>148</th>\n",
       "      <td>6.5</td>\n",
       "      <td>3.0</td>\n",
       "      <td>5.2</td>\n",
       "      <td>2.0</td>\n",
       "    </tr>\n",
       "    <tr>\n",
       "      <th>149</th>\n",
       "      <td>6.2</td>\n",
       "      <td>3.4</td>\n",
       "      <td>5.4</td>\n",
       "      <td>2.3</td>\n",
       "    </tr>\n",
       "    <tr>\n",
       "      <th>150</th>\n",
       "      <td>5.9</td>\n",
       "      <td>3.0</td>\n",
       "      <td>5.1</td>\n",
       "      <td>1.8</td>\n",
       "    </tr>\n",
       "  </tbody>\n",
       "</table>\n",
       "<p>147 rows × 4 columns</p>\n",
       "</div>"
      ],
      "text/plain": [
       "     SepalLengthCm  SepalWidthCm  PetalLengthCm  PetalWidthCm\n",
       "Id                                                           \n",
       "1              5.1           3.5            1.4           0.2\n",
       "2              4.9           3.0            1.4           0.2\n",
       "3              4.7           3.2            1.3           0.2\n",
       "4              4.6           3.1            1.5           0.2\n",
       "5              5.0           3.6            1.4           0.2\n",
       "..             ...           ...            ...           ...\n",
       "146            6.7           3.0            5.2           2.3\n",
       "147            6.3           2.5            5.0           1.9\n",
       "148            6.5           3.0            5.2           2.0\n",
       "149            6.2           3.4            5.4           2.3\n",
       "150            5.9           3.0            5.1           1.8\n",
       "\n",
       "[147 rows x 4 columns]"
      ]
     },
     "execution_count": 91,
     "metadata": {},
     "output_type": "execute_result"
    }
   ],
   "source": [
    "df1 = df.iloc[:,:-1]\n",
    "df1"
   ]
  },
  {
   "cell_type": "code",
   "execution_count": 92,
   "id": "0d2dc918",
   "metadata": {
    "ExecuteTime": {
     "end_time": "2023-01-13T10:06:22.666281Z",
     "start_time": "2023-01-13T10:06:22.648928Z"
    }
   },
   "outputs": [],
   "source": [
    "#we will use df1 data for clustering"
   ]
  },
  {
   "cell_type": "markdown",
   "id": "aa9eb8fb",
   "metadata": {},
   "source": [
    "# Model building"
   ]
  },
  {
   "cell_type": "code",
   "execution_count": 93,
   "id": "d4ec6a9e",
   "metadata": {
    "ExecuteTime": {
     "end_time": "2023-01-13T10:06:26.103000Z",
     "start_time": "2023-01-13T10:06:26.089712Z"
    }
   },
   "outputs": [],
   "source": [
    "from sklearn.preprocessing import StandardScaler"
   ]
  },
  {
   "cell_type": "code",
   "execution_count": 94,
   "id": "cbc20af9",
   "metadata": {
    "ExecuteTime": {
     "end_time": "2023-01-13T10:06:27.033508Z",
     "start_time": "2023-01-13T10:06:27.021075Z"
    }
   },
   "outputs": [],
   "source": [
    "sc= StandardScaler()"
   ]
  },
  {
   "cell_type": "code",
   "execution_count": 95,
   "id": "29651ffa",
   "metadata": {
    "ExecuteTime": {
     "end_time": "2023-01-13T10:06:28.610078Z",
     "start_time": "2023-01-13T10:06:28.587468Z"
    }
   },
   "outputs": [],
   "source": [
    "x = pd.DataFrame(sc.fit_transform(df1),columns= df1.columns)"
   ]
  },
  {
   "cell_type": "code",
   "execution_count": 96,
   "id": "a3e391cd",
   "metadata": {
    "ExecuteTime": {
     "end_time": "2023-01-13T10:06:30.497812Z",
     "start_time": "2023-01-13T10:06:30.478387Z"
    }
   },
   "outputs": [],
   "source": [
    "from sklearn.cluster import KMeans"
   ]
  },
  {
   "cell_type": "code",
   "execution_count": 97,
   "id": "a0683ec2",
   "metadata": {
    "ExecuteTime": {
     "end_time": "2023-01-13T10:06:33.572248Z",
     "start_time": "2023-01-13T10:06:31.991097Z"
    }
   },
   "outputs": [
    {
     "data": {
      "text/plain": [
       "array([4, 0, 0, 0, 4, 5, 4, 4, 0, 0, 4, 4, 0, 0, 5, 5, 5, 4, 5, 4, 4, 4,\n",
       "       4, 4, 4, 0, 4, 4, 4, 0, 0, 4, 5, 5, 0, 4, 0, 4, 4, 0, 0, 4, 4, 0,\n",
       "       4, 0, 4, 4, 1, 1, 1, 3, 1, 3, 1, 3, 1, 3, 3, 1, 3, 1, 3, 1, 1, 3,\n",
       "       6, 3, 1, 1, 6, 1, 1, 1, 1, 1, 1, 3, 3, 3, 3, 6, 1, 1, 1, 6, 1, 3,\n",
       "       3, 1, 3, 3, 3, 1, 1, 1, 3, 3, 2, 6, 7, 1, 2, 7, 3, 7, 6, 2, 2, 6,\n",
       "       2, 6, 6, 2, 1, 2, 7, 6, 2, 6, 7, 6, 2, 2, 6, 1, 6, 7, 7, 2, 6, 1,\n",
       "       6, 7, 2, 1, 1, 2, 2, 2, 2, 2, 2, 6, 1, 2, 1])"
      ]
     },
     "execution_count": 97,
     "metadata": {},
     "output_type": "execute_result"
    }
   ],
   "source": [
    "km = KMeans()\n",
    "\n",
    "km.fit_predict(x)"
   ]
  },
  {
   "cell_type": "code",
   "execution_count": 98,
   "id": "15bea678",
   "metadata": {
    "ExecuteTime": {
     "end_time": "2023-01-13T10:06:33.588260Z",
     "start_time": "2023-01-13T10:06:33.576239Z"
    }
   },
   "outputs": [],
   "source": [
    "##Elbow graph"
   ]
  },
  {
   "cell_type": "code",
   "execution_count": 77,
   "id": "3d167fe5",
   "metadata": {
    "ExecuteTime": {
     "end_time": "2023-01-13T09:59:40.530099Z",
     "start_time": "2023-01-13T09:59:40.515138Z"
    }
   },
   "outputs": [],
   "source": [
    "plt.rcParams['figure.figsize']=(10,5)\n",
    "plt.rcParams['figure.dpi']=200"
   ]
  },
  {
   "cell_type": "code",
   "execution_count": 78,
   "id": "57655f39",
   "metadata": {
    "ExecuteTime": {
     "end_time": "2023-01-13T10:00:22.714195Z",
     "start_time": "2023-01-13T09:59:42.185835Z"
    }
   },
   "outputs": [],
   "source": [
    "wccs=[]\n",
    "\n",
    "for i in range(1,25):\n",
    "    km =KMeans(n_clusters=i)\n",
    "    km.fit_predict(x)\n",
    "    wccs.append(km.inertia_)"
   ]
  },
  {
   "cell_type": "code",
   "execution_count": 19,
   "id": "902107f7",
   "metadata": {
    "ExecuteTime": {
     "end_time": "2023-01-04T16:10:06.190664Z",
     "start_time": "2023-01-04T16:10:05.248767Z"
    }
   },
   "outputs": [
    {
     "data": {
      "image/png": "[encoded data removed]",
      "text/plain": [
       "<Figure size 2000x1000 with 1 Axes>"
      ]
     },
     "metadata": {},
     "output_type": "display_data"
    }
   ],
   "source": [
    "plt.plot(range(1,25), wccs)\n",
    "plt.xlabel('Number of Clusters')\n",
    "plt.ylabel('WCSS')\n",
    "plt.title('Elbow Graph');"
   ]
  },
  {
   "cell_type": "markdown",
   "id": "af0e0afb",
   "metadata": {},
   "source": [
    "# From the above elbow graph, we got the optimal cluster number is 5"
   ]
  },
  {
   "cell_type": "code",
   "execution_count": 99,
   "id": "f78f3eb5",
   "metadata": {
    "ExecuteTime": {
     "end_time": "2023-01-13T10:06:42.108754Z",
     "start_time": "2023-01-13T10:06:40.276671Z"
    }
   },
   "outputs": [],
   "source": [
    "km = KMeans(n_clusters=5)\n",
    "\n",
    "y= km.fit_predict(x)"
   ]
  },
  {
   "cell_type": "code",
   "execution_count": 100,
   "id": "d72a1f11",
   "metadata": {
    "ExecuteTime": {
     "end_time": "2023-01-13T10:06:43.704782Z",
     "start_time": "2023-01-13T10:06:43.695668Z"
    }
   },
   "outputs": [],
   "source": [
    "df['Cluster']= y"
   ]
  },
  {
   "cell_type": "code",
   "execution_count": 101,
   "id": "bf3062ab",
   "metadata": {
    "ExecuteTime": {
     "end_time": "2023-01-13T10:06:44.986211Z",
     "start_time": "2023-01-13T10:06:44.941516Z"
    }
   },
   "outputs": [
    {
     "data": {
      "text/html": [
       "<div>\n",
       "<style scoped>\n",
       "    .dataframe tbody tr th:only-of-type {\n",
       "        vertical-align: middle;\n",
       "    }\n",
       "\n",
       "    .dataframe tbody tr th {\n",
       "        vertical-align: top;\n",
       "    }\n",
       "\n",
       "    .dataframe thead th {\n",
       "        text-align: right;\n",
       "    }\n",
       "</style>\n",
       "<table border=\"1\" class=\"dataframe\">\n",
       "  <thead>\n",
       "    <tr style=\"text-align: right;\">\n",
       "      <th></th>\n",
       "      <th>SepalLengthCm</th>\n",
       "      <th>SepalWidthCm</th>\n",
       "      <th>PetalLengthCm</th>\n",
       "      <th>PetalWidthCm</th>\n",
       "      <th>Species</th>\n",
       "      <th>Cluster</th>\n",
       "    </tr>\n",
       "    <tr>\n",
       "      <th>Id</th>\n",
       "      <th></th>\n",
       "      <th></th>\n",
       "      <th></th>\n",
       "      <th></th>\n",
       "      <th></th>\n",
       "      <th></th>\n",
       "    </tr>\n",
       "  </thead>\n",
       "  <tbody>\n",
       "    <tr>\n",
       "      <th>1</th>\n",
       "      <td>5.1</td>\n",
       "      <td>3.5</td>\n",
       "      <td>1.4</td>\n",
       "      <td>0.2</td>\n",
       "      <td>Iris-setosa</td>\n",
       "      <td>3</td>\n",
       "    </tr>\n",
       "    <tr>\n",
       "      <th>2</th>\n",
       "      <td>4.9</td>\n",
       "      <td>3.0</td>\n",
       "      <td>1.4</td>\n",
       "      <td>0.2</td>\n",
       "      <td>Iris-setosa</td>\n",
       "      <td>0</td>\n",
       "    </tr>\n",
       "    <tr>\n",
       "      <th>3</th>\n",
       "      <td>4.7</td>\n",
       "      <td>3.2</td>\n",
       "      <td>1.3</td>\n",
       "      <td>0.2</td>\n",
       "      <td>Iris-setosa</td>\n",
       "      <td>0</td>\n",
       "    </tr>\n",
       "    <tr>\n",
       "      <th>4</th>\n",
       "      <td>4.6</td>\n",
       "      <td>3.1</td>\n",
       "      <td>1.5</td>\n",
       "      <td>0.2</td>\n",
       "      <td>Iris-setosa</td>\n",
       "      <td>0</td>\n",
       "    </tr>\n",
       "    <tr>\n",
       "      <th>5</th>\n",
       "      <td>5.0</td>\n",
       "      <td>3.6</td>\n",
       "      <td>1.4</td>\n",
       "      <td>0.2</td>\n",
       "      <td>Iris-setosa</td>\n",
       "      <td>3</td>\n",
       "    </tr>\n",
       "    <tr>\n",
       "      <th>...</th>\n",
       "      <td>...</td>\n",
       "      <td>...</td>\n",
       "      <td>...</td>\n",
       "      <td>...</td>\n",
       "      <td>...</td>\n",
       "      <td>...</td>\n",
       "    </tr>\n",
       "    <tr>\n",
       "      <th>146</th>\n",
       "      <td>6.7</td>\n",
       "      <td>3.0</td>\n",
       "      <td>5.2</td>\n",
       "      <td>2.3</td>\n",
       "      <td>Iris-virginica</td>\n",
       "      <td>2</td>\n",
       "    </tr>\n",
       "    <tr>\n",
       "      <th>147</th>\n",
       "      <td>6.3</td>\n",
       "      <td>2.5</td>\n",
       "      <td>5.0</td>\n",
       "      <td>1.9</td>\n",
       "      <td>Iris-virginica</td>\n",
       "      <td>1</td>\n",
       "    </tr>\n",
       "    <tr>\n",
       "      <th>148</th>\n",
       "      <td>6.5</td>\n",
       "      <td>3.0</td>\n",
       "      <td>5.2</td>\n",
       "      <td>2.0</td>\n",
       "      <td>Iris-virginica</td>\n",
       "      <td>1</td>\n",
       "    </tr>\n",
       "    <tr>\n",
       "      <th>149</th>\n",
       "      <td>6.2</td>\n",
       "      <td>3.4</td>\n",
       "      <td>5.4</td>\n",
       "      <td>2.3</td>\n",
       "      <td>Iris-virginica</td>\n",
       "      <td>2</td>\n",
       "    </tr>\n",
       "    <tr>\n",
       "      <th>150</th>\n",
       "      <td>5.9</td>\n",
       "      <td>3.0</td>\n",
       "      <td>5.1</td>\n",
       "      <td>1.8</td>\n",
       "      <td>Iris-virginica</td>\n",
       "      <td>1</td>\n",
       "    </tr>\n",
       "  </tbody>\n",
       "</table>\n",
       "<p>147 rows × 6 columns</p>\n",
       "</div>"
      ],
      "text/plain": [
       "     SepalLengthCm  SepalWidthCm  PetalLengthCm  PetalWidthCm         Species  \\\n",
       "Id                                                                              \n",
       "1              5.1           3.5            1.4           0.2     Iris-setosa   \n",
       "2              4.9           3.0            1.4           0.2     Iris-setosa   \n",
       "3              4.7           3.2            1.3           0.2     Iris-setosa   \n",
       "4              4.6           3.1            1.5           0.2     Iris-setosa   \n",
       "5              5.0           3.6            1.4           0.2     Iris-setosa   \n",
       "..             ...           ...            ...           ...             ...   \n",
       "146            6.7           3.0            5.2           2.3  Iris-virginica   \n",
       "147            6.3           2.5            5.0           1.9  Iris-virginica   \n",
       "148            6.5           3.0            5.2           2.0  Iris-virginica   \n",
       "149            6.2           3.4            5.4           2.3  Iris-virginica   \n",
       "150            5.9           3.0            5.1           1.8  Iris-virginica   \n",
       "\n",
       "     Cluster  \n",
       "Id            \n",
       "1          3  \n",
       "2          0  \n",
       "3          0  \n",
       "4          0  \n",
       "5          3  \n",
       "..       ...  \n",
       "146        2  \n",
       "147        1  \n",
       "148        1  \n",
       "149        2  \n",
       "150        1  \n",
       "\n",
       "[147 rows x 6 columns]"
      ]
     },
     "execution_count": 101,
     "metadata": {},
     "output_type": "execute_result"
    }
   ],
   "source": [
    "df"
   ]
  },
  {
   "cell_type": "code",
   "execution_count": 102,
   "id": "2fbced7e",
   "metadata": {
    "ExecuteTime": {
     "end_time": "2023-01-13T10:06:50.112771Z",
     "start_time": "2023-01-13T10:06:50.083609Z"
    }
   },
   "outputs": [
    {
     "data": {
      "text/html": [
       "<div>\n",
       "<style scoped>\n",
       "    .dataframe tbody tr th:only-of-type {\n",
       "        vertical-align: middle;\n",
       "    }\n",
       "\n",
       "    .dataframe tbody tr th {\n",
       "        vertical-align: top;\n",
       "    }\n",
       "\n",
       "    .dataframe thead th {\n",
       "        text-align: right;\n",
       "    }\n",
       "</style>\n",
       "<table border=\"1\" class=\"dataframe\">\n",
       "  <thead>\n",
       "    <tr style=\"text-align: right;\">\n",
       "      <th></th>\n",
       "      <th>SepalLengthCm</th>\n",
       "      <th>SepalWidthCm</th>\n",
       "      <th>PetalLengthCm</th>\n",
       "      <th>PetalWidthCm</th>\n",
       "    </tr>\n",
       "    <tr>\n",
       "      <th>Cluster</th>\n",
       "      <th></th>\n",
       "      <th></th>\n",
       "      <th></th>\n",
       "      <th></th>\n",
       "    </tr>\n",
       "  </thead>\n",
       "  <tbody>\n",
       "    <tr>\n",
       "      <th>0</th>\n",
       "      <td>4.731818</td>\n",
       "      <td>3.122727</td>\n",
       "      <td>1.445455</td>\n",
       "      <td>0.213636</td>\n",
       "    </tr>\n",
       "    <tr>\n",
       "      <th>1</th>\n",
       "      <td>6.219149</td>\n",
       "      <td>2.912766</td>\n",
       "      <td>4.825532</td>\n",
       "      <td>1.614894</td>\n",
       "    </tr>\n",
       "    <tr>\n",
       "      <th>2</th>\n",
       "      <td>7.000000</td>\n",
       "      <td>3.159259</td>\n",
       "      <td>5.874074</td>\n",
       "      <td>2.174074</td>\n",
       "    </tr>\n",
       "    <tr>\n",
       "      <th>3</th>\n",
       "      <td>5.246154</td>\n",
       "      <td>3.692308</td>\n",
       "      <td>1.476923</td>\n",
       "      <td>0.280769</td>\n",
       "    </tr>\n",
       "    <tr>\n",
       "      <th>4</th>\n",
       "      <td>5.564000</td>\n",
       "      <td>2.492000</td>\n",
       "      <td>4.004000</td>\n",
       "      <td>1.244000</td>\n",
       "    </tr>\n",
       "  </tbody>\n",
       "</table>\n",
       "</div>"
      ],
      "text/plain": [
       "         SepalLengthCm  SepalWidthCm  PetalLengthCm  PetalWidthCm\n",
       "Cluster                                                          \n",
       "0             4.731818      3.122727       1.445455      0.213636\n",
       "1             6.219149      2.912766       4.825532      1.614894\n",
       "2             7.000000      3.159259       5.874074      2.174074\n",
       "3             5.246154      3.692308       1.476923      0.280769\n",
       "4             5.564000      2.492000       4.004000      1.244000"
      ]
     },
     "execution_count": 102,
     "metadata": {},
     "output_type": "execute_result"
    }
   ],
   "source": [
    "df.groupby('Cluster').agg('mean')"
   ]
  },
  {
   "cell_type": "code",
   "execution_count": null,
   "id": "f2a8e7d8",
   "metadata": {},
   "outputs": [],
   "source": []
  },
  {
   "cell_type": "code",
   "execution_count": null,
   "id": "01eed158",
   "metadata": {},
   "outputs": [],
   "source": []
  }
 ],
 "metadata": {
  "kernelspec": {
   "display_name": "Python 3 (ipykernel)",
   "language": "python",
   "name": "python3"
  },
  "language_info": {
   "codemirror_mode": {
    "name": "ipython",
    "version": 3
   },
   "file_extension": ".py",
   "mimetype": "text/x-python",
   "name": "python",
   "nbconvert_exporter": "python",
   "pygments_lexer": "ipython3",
   "version": "3.9.7"
  }
 },
 "nbformat": 4,
 "nbformat_minor": 5
}
